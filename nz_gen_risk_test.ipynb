{
  "nbformat": 4,
  "nbformat_minor": 0,
  "metadata": {
    "colab": {
      "name": "Untitled1.ipynb",
      "provenance": [],
      "authorship_tag": "ABX9TyOjp0u3aA59v/9cns4Bzu0y",
      "include_colab_link": true
    },
    "kernelspec": {
      "name": "python3",
      "display_name": "Python 3"
    }
  },
  "cells": [
    {
      "cell_type": "markdown",
      "metadata": {
        "id": "view-in-github",
        "colab_type": "text"
      },
      "source": [
        "<a href=\"https://colab.research.google.com/github/widnu/Predictive_Policing_DL/blob/master/nz_gen_risk_test.ipynb\" target=\"_parent\"><img src=\"https://colab.research.google.com/assets/colab-badge.svg\" alt=\"Open In Colab\"/></a>"
      ]
    },
    {
      "cell_type": "code",
      "metadata": {
        "id": "uSA00wfyy_4R",
        "colab_type": "code",
        "colab": {}
      },
      "source": [
        "import datetime\n",
        "import numpy as np\n",
        "import pandas as pd\n",
        "\n",
        "from google.colab import drive \n",
        "drive.mount('/content/gdrive')\n",
        "\n",
        "df=pd.read_csv('gdrive/My Drive/Colab Notebooks/dataset/nz_victim_timeplace_split_1819.csv', encoding='utf-8-sig')\n",
        "\n",
        "df.info()\n",
        "df.describe()\n",
        "\n",
        "#######################################################\n",
        "# Count total NaN at each column in DataFrame\n",
        "print(df.isnull().sum())\n",
        "\n",
        "# Count all NaN in a DataFrame (both columns & Rows)\n",
        "print(df.isnull().sum().sum())"
      ],
      "execution_count": null,
      "outputs": []
    },
    {
      "cell_type": "code",
      "metadata": {
        "id": "0o-UrN_SzoJo",
        "colab_type": "code",
        "colab": {}
      },
      "source": [
        "#######################################################\n",
        "df.rename(columns={'ANZSOC Division':'CRIME_TYPE',\n",
        "                   'Year Month': 'DATE_NO_TIME',\n",
        "                   'Occurrence Day Of Week':'DAY_OF_WEEK', \n",
        "                   'Occurrence Hour Of Day':'HOUR',\n",
        "                   'Meshblock':'MESHBLOCK',\n",
        "                   'Area Unit':'AREA_0',\n",
        "                   'Territorial Authority':'AREA_1',\n",
        "                   'Weapon': 'WEAPON'\n",
        "                   }, inplace=True)\n",
        "\n",
        "dropped_var = ['ANZSOC Group', 'ANZSOC Subdivision', 'Location Type', 'Locn Type Division', \n",
        "               'Number of Records', 'Table 1', 'Year Month (copy 2)', ' Month Year', 'Victimisations']\n",
        "\n",
        "# drop unused column\n",
        "df = df.drop(dropped_var, axis='columns')\n",
        "df.info()\n",
        "df.describe()"
      ],
      "execution_count": null,
      "outputs": []
    }
  ]
}